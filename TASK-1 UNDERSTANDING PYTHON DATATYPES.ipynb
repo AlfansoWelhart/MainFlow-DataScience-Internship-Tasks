{
 "cells": [
  {
   "cell_type": "markdown",
   "id": "ba043407-6896-4901-a7b0-60e71a8b33db",
   "metadata": {},
   "source": [
    " TASK -1 UNDERSTANDING PYTHON DATATYPE -"
   ]
  },
  {
   "cell_type": "markdown",
   "id": "14342672-8e3e-4178-90eb-cc0c6144844a",
   "metadata": {},
   "source": [
    "SETS IN PYTHON"
   ]
  },
  {
   "cell_type": "code",
   "execution_count": 46,
   "id": "b3776f14-3f14-4281-b5df-8b0f7df45caf",
   "metadata": {},
   "outputs": [
    {
     "name": "stdout",
     "output_type": "stream",
     "text": [
      "Initial Set: {1, 2, 3, 4, 5}\n",
      "After Adding 6: {1, 2, 3, 4, 5, 6}\n",
      "After Adding [7, 8, 9]: {1, 2, 3, 4, 5, 6, 7, 8, 9}\n",
      "After Removing 9: {1, 2, 3, 4, 5, 6, 7, 8}\n",
      "After Discarding 10: {1, 2, 3, 4, 5, 6, 7, 8}\n",
      "Popped Element: 1\n",
      "After Popping: {2, 3, 4, 5, 6, 7, 8}\n",
      "Is 4 in set?: True\n",
      "Is 10 in set?: False\n",
      "Union of set1 and set2: {1, 2, 3, 4, 5, 6}\n",
      "Intersection of set1 and set2: {3, 4}\n",
      "Difference (set1 - set2): {1, 2}\n",
      "Symmetric Difference of set1 and set2: {1, 2, 5, 6}\n",
      "Is set1 a subset of union_set?: True\n",
      "Is union_set a superset of set1?: True\n",
      "Are set1 and set3 disjoint?: True\n",
      "Copied Set: {2, 3, 4, 5, 6, 7, 8}\n",
      "After Clearing my_set: set()\n"
     ]
    }
   ],
   "source": [
    "# Step 1: Creating Sets\n",
    "# Empty set\n",
    "empty_set = set()\n",
    "my_set = {1, 2, 3, 4, 5} # Set with initial elements\n",
    "print(\"Initial Set:\", my_set)\n",
    "\n",
    "# Step 2: Adding Elements\n",
    "my_set.add(6)\n",
    "print(\"After Adding 6:\", my_set)\n",
    "\n",
    "# Step 3: Updating with Multiple Elements\n",
    "my_set.update([7, 8, 9])\n",
    "print(\"After Adding [7, 8, 9]:\", my_set)\n",
    "\n",
    "# Step 4: Removing Elements\n",
    "my_set.remove(9)  # Raises KeyError if element not found\n",
    "print(\"After Removing 9:\", my_set)\n",
    "\n",
    "# Removing with discard (No error if element not found)\n",
    "my_set.discard(10)  # Does nothing as 10 is not present\n",
    "print(\"After Discarding 10:\", my_set)\n",
    "\n",
    "# Removing and Returning an  Element\n",
    "popped_element = my_set.pop()  # Removes any one element\n",
    "print(f\"Popped Element: {popped_element}\")\n",
    "print(\"After Popping:\", my_set)\n",
    "\n",
    "# Step 5: Checking Membership\n",
    "print(\"Is 4 in set?:\", 4 in my_set)\n",
    "print(\"Is 10 in set?:\", 10 in my_set)\n",
    "\n",
    "# Step 6: Set Operations\n",
    "set1 = {1, 2, 3, 4}\n",
    "set2 = {3, 4, 5, 6}\n",
    "\n",
    "union_set = set1.union(set2) # Union\n",
    "print(\"Union of set1 and set2:\", union_set)\n",
    "\n",
    "intersection_set = set1.intersection(set2) # Intersection\n",
    "print(\"Intersection of set1 and set2:\", intersection_set)\n",
    "\n",
    "difference_set = set1.difference(set2) # Difference\n",
    "print(\"Difference (set1 - set2):\", difference_set)\n",
    "\n",
    "symmetric_difference_set = set1.symmetric_difference(set2) # Symmetric Difference\n",
    "print(\"Symmetric Difference of set1 and set2:\", symmetric_difference_set)\n",
    "\n",
    "# Step 7: Subset and Superset Checks\n",
    "print(\"Is set1 a subset of union_set?:\", set1.issubset(union_set))\n",
    "print(\"Is union_set a superset of set1?:\", union_set.issuperset(set1))\n",
    "\n",
    "# Step 8: Disjoint Sets\n",
    "set3 = {7, 8, 9}\n",
    "print(\"Are set1 and set3 disjoint?:\", set1.isdisjoint(set3))\n",
    "\n",
    "# Step 9: Copying a Set\n",
    "copied_set = my_set.copy()\n",
    "print(\"Copied Set:\", copied_set)\n",
    "\n",
    "# Step 10: Clearing a Set\n",
    "my_set.clear()\n",
    "print(\"After Clearing my_set:\", my_set)"
   ]
  },
  {
   "cell_type": "markdown",
   "id": "024ae8ca-d7f5-4e77-95c9-22634fa1eebe",
   "metadata": {},
   "source": [
    "DICTIONARY IN PYTHON"
   ]
  },
  {
   "cell_type": "code",
   "execution_count": 45,
   "id": "c6743627-164a-46b8-83d3-b5cc2675ae57",
   "metadata": {},
   "outputs": [
    {
     "name": "stdout",
     "output_type": "stream",
     "text": [
      "This is the Initial Dictionary  :  {'name': 'John', 'age': 25, 'city': 'New York'} .\n",
      "Name :  John\n",
      "Age :  25\n",
      "The Removed value is : 21\n",
      "After Removing the age : {'name': 'John', 'city': 'New York', 'Country': 'USA'}\n",
      "Before popitem(): {'name': 'John', 'city': 'New York', 'Country': 'USA', 'age': 21, 'job': 'Engineer'}\n",
      "After popitem(): {'name': 'John', 'city': 'New York', 'Country': 'USA', 'age': 21}\n",
      "After Deleting Age: {'name': 'John', 'city': 'New York', 'Country': 'USA'}\n",
      "After Clearing Dictionary: {}\n",
      "Key: name\n",
      "Key: age\n",
      "Key: city\n",
      "Value: John\n",
      "Value: 25\n",
      "Value: New York\n",
      "Key: name, Value: John\n",
      "Key: age, Value: 25\n",
      "Key: city, Value: New York\n",
      "Even Squares Dictionary: {2: 4, 4: 16, 6: 36, 8: 64, 10: 100, 12: 144, 14: 196, 16: 256, 18: 324, 20: 400}\n"
     ]
    }
   ],
   "source": [
    "# Step- 1 Creating a Dictionary\n",
    "my_dict = { \"name\": \"John\", \"age\": 25, \"city\": \"New York\" }\n",
    "print(f\"This is the Initial Dictionary  :  {my_dict} .\")\n",
    "\n",
    "# Step- 2 Accessing an element\n",
    "print(\"Name : \" ,my_dict['name']) # Accessing value by key\n",
    "print(\"Age : \" ,my_dict.get('age')) # Accessing value by method\n",
    "\n",
    "# Step- 3 Adding or Updating Elements\n",
    "my_dict['Country'] = 'USA' # Adding a new key-value Pair\n",
    "my_dict['age'] = 21 # Updating an existing key\n",
    "\n",
    "# Step- 4 Removing Elements\n",
    "removed_value = my_dict.pop('age')\n",
    "print(\"The Removed value is :\" , removed_value)\n",
    "print(\"After Removing the age :\" ,my_dict)\n",
    "my_dict['age'] = 21\n",
    "\n",
    "my_dict[\"job\"] = \"Engineer\"\n",
    "print(\"Before popitem():\", my_dict)\n",
    "\n",
    "my_dict.popitem() # Removing the last key-value pair of dictionary\n",
    "print(\"After popitem():\", my_dict)\n",
    "\n",
    "del my_dict[\"age\"] # Using `del` keyword \n",
    "print(\"After Deleting Age:\", my_dict)\n",
    "\n",
    "my_dict.clear() # Clearing all elements\n",
    "print(\"After Clearing Dictionary:\", my_dict)\n",
    "\n",
    "# Step- 5 Iterating Through a Dictionary\n",
    "my_dict = {\"name\": \"John\", \"age\": 25, \"city\": \"New York\"}\n",
    "\n",
    "for key in my_dict:\n",
    "    print(\"Key:\", key) # Looping through keys\n",
    "    \n",
    "for value in my_dict.values():\n",
    "    print(\"Value:\", value) # Looping through values\n",
    "\n",
    "for key, value in my_dict.items():\n",
    "    print(f\"Key: {key}, Value: {value}\") # Looping through key-value pairs\n",
    "\n",
    "# Step- 6 Dictionary Comprehension\n",
    "even_squares = {x: x**2 for x in range(1, 21) if x % 2 == 0} # Dictionary with condition\n",
    "print(\"Even Squares Dictionary:\", even_squares)"
   ]
  },
  {
   "cell_type": "markdown",
   "id": "dcfff666-cfc7-4e13-b73a-c94beb5d04cb",
   "metadata": {},
   "source": [
    "LIST IN PYTHON"
   ]
  },
  {
   "cell_type": "code",
   "execution_count": 1,
   "id": "616f476d-f349-405c-acea-e2128409a8d9",
   "metadata": {},
   "outputs": [
    {
     "name": "stdout",
     "output_type": "stream",
     "text": [
      "This is my list : [10, 20, 30, 40, 50, 60] .\n",
      "This is my list After 'Adding' an element : [10, 20, 30, 35, 40, 50, 60, 70] .\n",
      "This is my list After 'Removing' an element : [10, 20, 30, 40, 50, 60] .\n",
      "After 'Reversing' the 'my_list' : [60, 50, 40, 30, 20, 10] .\n",
      "After 'Sorting' the list :  [1, 2, 3, 4, 5, 8] .\n",
      "New 'Sliced' list : [50, 40, 30] .\n"
     ]
    }
   ],
   "source": [
    "# Step- 1  List creation\n",
    "my_list = [10, 20, 30, 40, 50, 60]\n",
    "print(f\"This is my list : {my_list} .\")\n",
    "\n",
    "# Step- 2 Adding an element in the list \n",
    "new_element = 70\n",
    "my_list.append(new_element) # Adding an element at the end position .\n",
    "my_list.insert( 3, 35) # Adding an element at the specific position.\n",
    "print(f\"This is my list After 'Adding' an element : {my_list} .\")\n",
    "\n",
    "# Step- 3 Removing an element\n",
    "my_list.remove(35) # Removing a specific element.\n",
    "my_list.pop(-1) # poping the element using index.\n",
    "print(f\"This is my list After 'Removing' an element : {my_list} .\")\n",
    "\n",
    "# Step- 4 Modifying the Elements\n",
    "my_list.reverse() # Reversing the list\n",
    "print(f\"After 'Reversing' the 'my_list' : {my_list} .\")\n",
    "\n",
    "unsorted_list = [4, 5, 2, 1, 8, 3]\n",
    "unsorted_list.sort() # Sorting a list\n",
    "print(\"After 'Sorting' the list : \" ,unsorted_list , \".\")\n",
    "\n",
    "# Step- 5 Slicing Through the list\n",
    "new_sliced_list = my_list[1:4]\n",
    "print(f\"New 'Sliced' list : {new_sliced_list} .\")"
   ]
  },
  {
   "cell_type": "code",
   "execution_count": null,
   "id": "d2c425c7-aa44-4815-830d-f06755caca1c",
   "metadata": {},
   "outputs": [],
   "source": []
  }
 ],
 "metadata": {
  "kernelspec": {
   "display_name": "base",
   "language": "python",
   "name": "python3"
  },
  "language_info": {
   "codemirror_mode": {
    "name": "ipython",
    "version": 3
   },
   "file_extension": ".py",
   "mimetype": "text/x-python",
   "name": "python",
   "nbconvert_exporter": "python",
   "pygments_lexer": "ipython3",
   "version": "3.12.7"
  }
 },
 "nbformat": 4,
 "nbformat_minor": 5
}
